{
 "cells": [
  {
   "cell_type": "code",
   "execution_count": 1,
   "metadata": {},
   "outputs": [],
   "source": [
    "import numpy as np\n",
    "import pandas as pd\n",
    "import matplotlib.pyplot as plt\n",
    "import seaborn as sns\n",
    "from sklearn.impute import KNNImputer\n",
    "from sklearn.model_selection import train_test_split\n",
    "from sklearn.metrics import mean_squared_error\n",
    "from sklearn.ensemble import HistGradientBoostingRegressor\n",
    "from sklearn.ensemble import AdaBoostRegressor\n",
    "from sklearn.neighbors import KNeighborsRegressor"
   ]
  },
  {
   "cell_type": "code",
   "execution_count": 3,
   "metadata": {},
   "outputs": [],
   "source": [
    "# Load the data\n",
    "training_data = pd.read_csv('Data/training.csv')\n",
    "training_data.drop(columns=['Unnamed: 0', 'pad_id', ''], inplace=True)\n",
    "training_data.drop_duplicates(inplace=True)\n",
    "training_data.replace([np.inf, -np.inf], np.nan, inplace=True)\n",
    "\n",
    "# Convert any \"Undefined\" or \"Unknown\" values to NaN\n",
    "training_data.replace('Undefined', np.nan, inplace=True)\n",
    "training_data.replace('Unknown', np.nan, inplace=True)\n",
    "\n",
    "# Before imputing, keep track of rows with missing values for 'OilPeakRate' to remove them later\n",
    "rows_with_missing_values = training_data[training_data['OilPeakRate'].isnull()].index.to_list()"
   ]
  },
  {
   "cell_type": "code",
   "execution_count": null,
   "metadata": {},
   "outputs": [],
   "source": []
  }
 ],
 "metadata": {
  "kernelspec": {
   "display_name": "p311",
   "language": "python",
   "name": "python3"
  },
  "language_info": {
   "codemirror_mode": {
    "name": "ipython",
    "version": 3
   },
   "file_extension": ".py",
   "mimetype": "text/x-python",
   "name": "python",
   "nbconvert_exporter": "python",
   "pygments_lexer": "ipython3",
   "version": "3.11.5"
  }
 },
 "nbformat": 4,
 "nbformat_minor": 2
}
