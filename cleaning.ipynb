{
 "cells": [
  {
   "cell_type": "code",
   "execution_count": 10,
   "metadata": {},
   "outputs": [],
   "source": [
    "import pandas as pd"
   ]
  },
  {
   "cell_type": "code",
   "execution_count": 11,
   "metadata": {},
   "outputs": [
    {
     "data": {
      "text/plain": [
       "surface_x                           0\n",
       "surface_y                           0\n",
       "bh_x                             2087\n",
       "bh_y                             2087\n",
       "standardized_operator_name          0\n",
       "gross_perforated_length          7557\n",
       "number_of_stages                26940\n",
       "total_proppant                  10612\n",
       "total_fluid                     10616\n",
       "true_vertical_depth              1495\n",
       "ffs_frac_type                   15107\n",
       "proppant_intensity              10721\n",
       "frac_fluid_intensity            10746\n",
       "average_stage_length            26968\n",
       "average_proppant_per_stage      27003\n",
       "average_frac_fluid_per_stage    27005\n",
       "proppant_to_frac_fluid_ratio    11036\n",
       "frac_fluid_to_proppant_ratio    11036\n",
       "bin_lateral_length               7557\n",
       "pad_id                              0\n",
       "relative_well_position           9225\n",
       "batch_frac_classification        9225\n",
       "well_family_relationship         9225\n",
       "frac_type                           0\n",
       "frac_seasoning                  14924\n",
       "horizontal_midpoint_x            1001\n",
       "horizontal_midpoint_y            1001\n",
       "horizontal_toe_x                  711\n",
       "horizontal_toe_y                  711\n",
       "OilPeakRate                     10386\n",
       "dtype: int64"
      ]
     },
     "execution_count": 11,
     "metadata": {},
     "output_type": "execute_result"
    }
   ],
   "source": [
    "data = pd.read_csv(\"data/training.csv\")\n",
    "data = data.drop(\"Unnamed: 0\", axis=1)\n",
    "data.isnull().sum()"
   ]
  },
  {
   "cell_type": "code",
   "execution_count": null,
   "metadata": {},
   "outputs": [],
   "source": [
    "# From https://scikit-learn.org/stable/auto_examples/impute/plot_missing_values.html#sphx-glr-auto-examples-impute-plot-missing-values-py\n",
    "\n",
    "import numpy as np\n",
    "from sklearn.impute import KNNImputer\n",
    "from sklearn.model_selection import cross_val_score\n",
    "from sklearn.pipeline import make_pipeline\n",
    "from sklearn.ensemble import RandomForestRegressor\n",
    "\n",
    "N_SPLITS = 4\n",
    "regressor = RandomForestRegressor(random_state=0)\n",
    "\n",
    "def get_scores_for_imputer(imputer, X_missing, y_missing):\n",
    "    estimator = make_pipeline(imputer, regressor)\n",
    "    impute_scores = cross_val_score(\n",
    "        estimator, X_missing, y_missing, scoring=\"neg_mean_squared_error\", cv=N_SPLITS\n",
    "    )\n",
    "    return impute_scores\n",
    "\n",
    "def get_impute_knn_score(X_missing, y_missing):\n",
    "    imputer = KNNImputer(missing_values=np.nan, add_indicator=True)\n",
    "    knn_impute_scores = get_scores_for_imputer(imputer, X_missing, y_missing)\n",
    "    return knn_impute_scores.mean(), knn_impute_scores.std()"
   ]
  }
 ],
 "metadata": {
  "kernelspec": {
   "display_name": "p311",
   "language": "python",
   "name": "python3"
  },
  "language_info": {
   "codemirror_mode": {
    "name": "ipython",
    "version": 3
   },
   "file_extension": ".py",
   "mimetype": "text/x-python",
   "name": "python",
   "nbconvert_exporter": "python",
   "pygments_lexer": "ipython3",
   "version": "3.11.5"
  }
 },
 "nbformat": 4,
 "nbformat_minor": 2
}
