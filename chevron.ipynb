{
 "cells": [
  {
   "cell_type": "code",
   "execution_count": 89,
   "metadata": {},
   "outputs": [],
   "source": [
    "import numpy as np\n",
    "import pandas as pd\n",
    "import matplotlib.pyplot as plt\n",
    "import seaborn as sns\n",
    "from sklearn.impute import SimpleImputer\n",
    "from sklearn.impute import KNNImputer\n",
    "from sklearn.model_selection import train_test_split\n",
    "from sklearn.tree import DecisionTreeRegressor\n",
    "from sklearn.ensemble import RandomForestRegressor\n",
    "from sklearn.metrics import mean_squared_error"
   ]
  },
  {
   "cell_type": "code",
   "execution_count": 101,
   "metadata": {},
   "outputs": [],
   "source": [
    "# Load the data\n",
    "training_data = pd.read_csv('Data/training.csv')\n",
    "training_data.drop(columns=['Unnamed: 0'], inplace=True)\n",
    "training_data.drop_duplicates(inplace=True)\n",
    "training_data.replace([np.inf, -np.inf], np.nan, inplace=True)\n",
    "\n",
    "# Before imputing, keep track of rows with missing values for 'OilPeakRate' to remove them later\n",
    "rows_with_missing_values = training_data[training_data['OilPeakRate'].isnull()].index.to_list()"
   ]
  },
  {
   "cell_type": "code",
   "execution_count": 102,
   "metadata": {},
   "outputs": [
    {
     "name": "stdout",
     "output_type": "stream",
     "text": [
      "(29682, 46)\n"
     ]
    }
   ],
   "source": [
    "# Imputing numeric features\n",
    "numeric_columns = training_data.select_dtypes(include=['float64', 'int64']).columns\n",
    "numeric_imputer = SimpleImputer(strategy='median')\n",
    "training_data[numeric_columns] = numeric_imputer.fit_transform(training_data[numeric_columns])\n",
    "\n",
    "# Imputing categorical features\n",
    "categorical_columns = training_data.select_dtypes(include=['object']).columns\n",
    "categorical_imputer = SimpleImputer(strategy='most_frequent')\n",
    "training_data[categorical_columns] = categorical_imputer.fit_transform(training_data[categorical_columns])\n",
    "\n",
    "# Encode categorical variables\n",
    "training_data = pd.get_dummies(training_data)\n",
    "print(training_data.shape)"
   ]
  },
  {
   "cell_type": "code",
   "execution_count": 86,
   "metadata": {},
   "outputs": [
    {
     "name": "stdout",
     "output_type": "stream",
     "text": [
      "(29682, 46)\n"
     ]
    }
   ],
   "source": [
    "# Encode categorical variables\n",
    "training_data = pd.get_dummies(training_data)\n",
    "print(training_data.shape)\n",
    "\n",
    "# Impute missing values with KNNImputer\n",
    "imputer = KNNImputer(n_neighbors=5)\n",
    "# Keep column names\n",
    "training_data_columns = training_data.columns\n",
    "training_data[training_data_columns] = imputer.fit_transform(training_data)"
   ]
  },
  {
   "cell_type": "code",
   "execution_count": 103,
   "metadata": {},
   "outputs": [],
   "source": [
    "# Drop rows with missing values for 'OilPeakRate'\n",
    "training_data.drop(rows_with_missing_values, inplace=True)"
   ]
  },
  {
   "cell_type": "code",
   "execution_count": 99,
   "metadata": {},
   "outputs": [
    {
     "name": "stdout",
     "output_type": "stream",
     "text": [
      "(19306, 44)\n"
     ]
    }
   ],
   "source": [
    "# Encode categorical variables\n",
    "training_data = pd.get_dummies(training_data)\n",
    "print(training_data.shape)"
   ]
  },
  {
   "cell_type": "code",
   "execution_count": 88,
   "metadata": {},
   "outputs": [
    {
     "name": "stdout",
     "output_type": "stream",
     "text": [
      "Test set RMSE: 125.02\n"
     ]
    }
   ],
   "source": [
    "# Split the data into training and test sets\n",
    "X = training_data.drop('OilPeakRate', axis=1)\n",
    "y = training_data['OilPeakRate']\n",
    "\n",
    "X_train, X_test, y_train, y_test = train_test_split(X, y, test_size=0.2, random_state=123)\n",
    "\n",
    "# Instantiate the DecisionTreeRegressor\n",
    "model = DecisionTreeRegressor(max_depth=5, random_state=123)\n",
    "model.fit(X_train, y_train)\n",
    "\n",
    "# Predict the test set labels\n",
    "y_pred = model.predict(X_test)\n",
    "\n",
    "# Evaluate the test set RMSE\n",
    "rmse = np.sqrt(mean_squared_error(y_test, y_pred))\n",
    "print('Test set RMSE: {:.2f}'.format(rmse))"
   ]
  },
  {
   "cell_type": "code",
   "execution_count": 104,
   "metadata": {},
   "outputs": [
    {
     "name": "stdout",
     "output_type": "stream",
     "text": [
      "Test set RMSE: 102.73\n"
     ]
    }
   ],
   "source": [
    "# Instantiate the RandomForestRegressor\n",
    "model = RandomForestRegressor(n_estimators=50, random_state=123)\n",
    "model.fit(X_train, y_train)\n",
    "\n",
    "# Predict the test set labels\n",
    "y_pred = model.predict(X_test)\n",
    "\n",
    "# Evaluate the test set RMSE\n",
    "rmse = np.sqrt(mean_squared_error(y_test, y_pred))\n",
    "print('Test set RMSE: {:.2f}'.format(rmse))"
   ]
  }
 ],
 "metadata": {
  "kernelspec": {
   "display_name": "p311",
   "language": "python",
   "name": "python3"
  },
  "language_info": {
   "codemirror_mode": {
    "name": "ipython",
    "version": 3
   },
   "file_extension": ".py",
   "mimetype": "text/x-python",
   "name": "python",
   "nbconvert_exporter": "python",
   "pygments_lexer": "ipython3",
   "version": "3.11.5"
  }
 },
 "nbformat": 4,
 "nbformat_minor": 2
}
